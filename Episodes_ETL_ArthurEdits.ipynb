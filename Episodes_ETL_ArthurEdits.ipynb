{
 "cells": [
  {
   "cell_type": "code",
   "execution_count": null,
   "metadata": {},
   "outputs": [],
   "source": [
    "# Import dependencies for pandas (read in the CSV) and create engine from sqlalchemy to set up our database\n",
    "import pandas as pd\n",
    "from sqlalchemy import create_engine\n",
    "import codecs"
   ]
  },
  {
   "cell_type": "code",
   "execution_count": null,
   "metadata": {},
   "outputs": [],
   "source": [
    "# Import csv using the pandas read_csv function, display dataframe head to get a quick look at the data\n",
    "episodes_file = \"episodes.csv\"\n",
    "episodes_df = pd.read_csv(episodes_file)\n",
    "episodes_df.head()"
   ]
  },
  {
   "cell_type": "code",
   "execution_count": null,
   "metadata": {},
   "outputs": [],
   "source": [
    "# Create a filtered dataframe from specific columns \n",
    "# Here we are only really interested the eventual primary key (podcast_uuid) and sortable, descriptive columns \n",
    "# Filtering out extraneous fields\n",
    "episodes_cols = [\"title\", \"description\", \"podcast_uuid\"]\n",
    "episodes_transformed = episodes_df[episodes_cols].copy()\n",
    "\n",
    "# Rename the column headers\n",
    "episodes_transformed = episodes_transformed.rename(columns={\"title\": \"title\", \n",
    "                                                            \"description\": \"description\",\n",
    "                                                          \"podcast_uuid\": \"id\"})\n",
    "\n",
    "# Clean the data by dropping duplicates and setting the index\n",
    "# Display the head of our new dataframe\n",
    "episodes_transformed.drop_duplicates(\"id\", inplace=True)\n",
    "episodes_transformed.set_index(\"id\", inplace=True)\n",
    "\n",
    "episodes_transformed.head()"
   ]
  },
  {
   "cell_type": "code",
   "execution_count": null,
   "metadata": {},
   "outputs": [],
   "source": [
    "# Drop NA values\n",
    "episodes_final = episodes_transformed.dropna()\n",
    "\n",
    "episodes_final.head()"
   ]
  },
  {
   "cell_type": "code",
   "execution_count": null,
   "metadata": {},
   "outputs": [],
   "source": [
    "# Sort the data by titles\n",
    "episodes_final_sorted = episodes_final.sort_values(by=['title'], ascending = True)\n",
    "\n",
    "episodes_final_sorted.head()"
   ]
  },
  {
   "cell_type": "code",
   "execution_count": null,
   "metadata": {},
   "outputs": [],
   "source": [
    "# Testing for case sensitivity\n",
    "episode_find = episodes_final_sorted.loc[episodes_final_sorted['title'].str.contains('Stranger Things')]\n",
    "\n",
    "episode_find.head()"
   ]
  },
  {
   "cell_type": "code",
   "execution_count": null,
   "metadata": {},
   "outputs": [],
   "source": [
    "# Setting up connection to mysql workbench\n",
    "connection_string = \"root:<enter your password here>@localhost/podcasts_db\"\n",
    "engine = create_engine(f'mysql://{connection_string}')"
   ]
  },
  {
   "cell_type": "code",
   "execution_count": null,
   "metadata": {},
   "outputs": [],
   "source": [
    "# Display table names in data base, testing connection\n",
    "engine.table_names()"
   ]
  },
  {
   "cell_type": "code",
   "execution_count": null,
   "metadata": {},
   "outputs": [],
   "source": [
    "# Send data frames into mysql\n",
    "episodes_final_sorted.to_sql(name='episodes', con=engine, if_exists='append', index=True)"
   ]
  }
 ],
 "metadata": {
  "kernelspec": {
   "display_name": "Python 3",
   "language": "python",
   "name": "python3"
  },
  "language_info": {
   "codemirror_mode": {
    "name": "ipython",
    "version": 3
   },
   "file_extension": ".py",
   "mimetype": "text/x-python",
   "name": "python",
   "nbconvert_exporter": "python",
   "pygments_lexer": "ipython3",
   "version": "3.7.1"
  }
 },
 "nbformat": 4,
 "nbformat_minor": 2
}
