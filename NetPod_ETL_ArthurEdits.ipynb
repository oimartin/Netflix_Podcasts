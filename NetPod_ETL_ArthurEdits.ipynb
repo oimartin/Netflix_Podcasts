{
 "cells": [
  {
   "cell_type": "code",
   "execution_count": null,
   "metadata": {},
   "outputs": [],
   "source": [
    "# Import dpendencies for pandas (read in the CSV) and create engine from sqlalchemy to set up our database\n",
    "import pandas as pd\n",
    "from sqlalchemy import create_engine\n",
    "import codecs"
   ]
  },
  {
   "cell_type": "code",
   "execution_count": null,
   "metadata": {},
   "outputs": [],
   "source": [
    "# Import csv using the pandas read_csv function, display dataframe head to get a quick look at the data\n",
    "podcast_file = \"podcasts.csv\"\n",
    "podcast_df = pd.read_csv(podcast_file)\n",
    "podcast_df.head()"
   ]
  },
  {
   "cell_type": "code",
   "execution_count": null,
   "metadata": {},
   "outputs": [],
   "source": [
    "# Create a filtered dataframe from specific columns \n",
    "# Here we are only really interested the eventual primary key (uuid) and sortable, descriptive columns \n",
    "# Filtering out extraneous fields\n",
    "podcast_cols = [\"uuid\", \"title\", \"language\", \"categories\"]\n",
    "podcast_clean= podcast_df[podcast_cols].copy()\n",
    "\n",
    "# Rename the column headers\n",
    "podcast_clean = podcast_clean.rename(columns={\"uuid\": \"id\"})\n",
    "\n",
    "# Clean the data by dropping duplicates and setting the index\n",
    "# Display the head of our new dataframe\n",
    "podcast_clean.drop_duplicates(\"id\", inplace=True)\n",
    "podcast_clean.set_index(\"id\", inplace=True)\n",
    "\n",
    "podcast_clean.head()"
   ]
  },
  {
   "cell_type": "code",
   "execution_count": null,
   "metadata": {},
   "outputs": [],
   "source": [
    "# Our project will focus on the intersection of podcasts and streaming (Netfilx)\n",
    "# Display unique values for the categories column and locate what is relevant: \"TV & Film\"\n",
    "podcast_clean.categories.unique()"
   ]
  },
  {
   "cell_type": "code",
   "execution_count": null,
   "metadata": {},
   "outputs": [],
   "source": [
    "# Filter the dataframe to display only results mathing \"TV & Film\" in the \"categories\" column\n",
    "podcast_tvfilm = podcast_clean.loc[podcast_clean['categories'] == 'TV & Film']\n",
    "\n",
    "# Sort the data by title\n",
    "podcast_tvfilm_a = podcast_tvfilm.sort_values(by=['title'], ascending = False)\n",
    "podcast_tvfilm_a.head(100)"
   ]
  },
  {
   "cell_type": "code",
   "execution_count": null,
   "metadata": {},
   "outputs": [],
   "source": [
    "# Filtered the dataframe by English only podcasts, attempting to clean up any errors in loading to mysql\n",
    "podcast_english = podcast_tvfilm_a.loc[podcast_tvfilm_a['language'] == 'English']\n",
    "\n",
    "podcast_english"
   ]
  },
  {
   "cell_type": "code",
   "execution_count": null,
   "metadata": {},
   "outputs": [],
   "source": [
    "# Testing for case sensitivity\n",
    "podcast_find = podcast_tvfilm_a.loc[podcast_tvfilm_a['title'].str.contains('Stranger Things')]\n",
    "podcast_find"
   ]
  },
  {
   "cell_type": "code",
   "execution_count": null,
   "metadata": {},
   "outputs": [],
   "source": [
    "# Setting up connection to mysql workbench\n",
    "connection_string = \"root:<enter your password>@localhost/podcasts_db\"\n",
    "engine = create_engine(f'mysql://{connection_string}')"
   ]
  },
  {
   "cell_type": "code",
   "execution_count": null,
   "metadata": {},
   "outputs": [],
   "source": [
    "# Display table names in data base, testing connection\n",
    "engine.table_names()"
   ]
  },
  {
   "cell_type": "code",
   "execution_count": null,
   "metadata": {},
   "outputs": [],
   "source": [
    "# Attempting to load the \"title\" column by itself, testing for errors\n",
    "titles = ['title']\n",
    "titles_df = podcast_english[titles].copy()\n",
    "\n",
    "titles_df"
   ]
  },
  {
   "cell_type": "code",
   "execution_count": null,
   "metadata": {},
   "outputs": [],
   "source": [
    "# Attempting to load the \"language\" and \"categories\" columns into mysql, diagnosing where the previous errors were\n",
    "# These successfully load into mysql, clear that the issue is with the title column\n",
    "test_podcast_cols = [\"language\", \"categories\"]\n",
    "test_podcast_clean= podcast_tvfilm_a[test_podcast_cols].copy()\n",
    "\n",
    "test_podcast_clean"
   ]
  },
  {
   "cell_type": "code",
   "execution_count": null,
   "metadata": {},
   "outputs": [],
   "source": [
    "# Send data frames into mysql\n",
    "titles_df.to_sql(name='TABLE NAME HERE', con=engine, if_exists='append', index=True)"
   ]
  }
 ],
 "metadata": {
  "kernelspec": {
   "display_name": "Python 3",
   "language": "python",
   "name": "python3"
  },
  "language_info": {
   "codemirror_mode": {
    "name": "ipython",
    "version": 3
   },
   "file_extension": ".py",
   "mimetype": "text/x-python",
   "name": "python",
   "nbconvert_exporter": "python",
   "pygments_lexer": "ipython3",
   "version": "3.7.1"
  }
 },
 "nbformat": 4,
 "nbformat_minor": 2
}
